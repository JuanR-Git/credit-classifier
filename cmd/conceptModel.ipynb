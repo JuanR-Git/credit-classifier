{
 "cells": [
  {
   "cell_type": "markdown",
   "id": "c7a86d5c",
   "metadata": {},
   "source": [
    "# Proof of concept\n",
    "This jupyter notebook will be used to create our proof of concept for our credit classification model. Once we are happy with our methods and the accuracy of our model we will transfer the code into .py files and organize it for maintainability following OOP best practices. "
   ]
  },
  {
   "cell_type": "markdown",
   "id": "0412b50c",
   "metadata": {},
   "source": [
    "--- "
   ]
  },
  {
   "cell_type": "markdown",
   "id": "f5f1fc50",
   "metadata": {},
   "source": [
    "## Data Processing \n",
    "__Juan__ will be overseeing the data processing section."
   ]
  },
  {
   "cell_type": "code",
   "execution_count": null,
   "id": "19c71e8f",
   "metadata": {},
   "outputs": [],
   "source": []
  },
  {
   "cell_type": "markdown",
   "id": "383e8df4",
   "metadata": {},
   "source": [
    "## Model Creation\n",
    "__Konrad__ will be overseeing the Model creation section."
   ]
  }
 ],
 "metadata": {
  "language_info": {
   "name": "python"
  }
 },
 "nbformat": 4,
 "nbformat_minor": 5
}
